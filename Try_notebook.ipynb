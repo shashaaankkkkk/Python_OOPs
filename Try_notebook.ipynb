{
 "cells": [
  {
   "cell_type": "markdown",
   "id": "b91957ff",
   "metadata": {},
   "source": [
    "# Python Object-Oriented Programing Concept"
   ]
  },
  {
   "cell_type": "markdown",
   "id": "616e25be",
   "metadata": {},
   "source": [
    "# constuctor\n",
    "Constructors in Python is a special class method for creating and initializing an object instance at that class."
   ]
  },
  {
   "cell_type": "code",
   "execution_count": 1,
   "id": "93c549ce",
   "metadata": {},
   "outputs": [],
   "source": [
    "#constructor example\n",
    "class student:\n",
    "    def __init__(self,s):# __init__ fuction is constructor and s is attribute  given to class\n",
    "        self.name=s\n",
    "        \n",
    "    def hello(self):\n",
    "        print (\"hello\",self.name)\n",
    "        "
   ]
  },
  {
   "cell_type": "code",
   "execution_count": 2,
   "id": "5af3d68c",
   "metadata": {},
   "outputs": [
    {
     "name": "stdout",
     "output_type": "stream",
     "text": [
      "hello shashank\n"
     ]
    }
   ],
   "source": [
    "a=student(\"shashank\")\n",
    "a.hello()"
   ]
  },
  {
   "cell_type": "markdown",
   "id": "2bafcc2e",
   "metadata": {},
   "source": [
    "# Inheritance\n",
    "\n",
    "Inheritance allows us to define a class that inherits all the methods and properties from another class."
   ]
  },
  {
   "cell_type": "code",
   "execution_count": 3,
   "id": "8ecf3b4c",
   "metadata": {},
   "outputs": [],
   "source": [
    "#inheritance\n",
    "#super class\n",
    "class shape:\n",
    "    def __init__(self):\n",
    "        self.color=(10,6,11)\n",
    "        \n",
    "#subclass\n",
    "class rectangle(shape):\n",
    "    def __init__(self,w,h):\n",
    "        shape.__init__(self)\n",
    "        self.width=w\n",
    "        self.height=h\n",
    "    def area(self):\n",
    "        return self.width*self.height"
   ]
  },
  {
   "cell_type": "code",
   "execution_count": 4,
   "id": "6bdeef7d",
   "metadata": {},
   "outputs": [],
   "source": [
    "r1=rectangle(10,5)"
   ]
  },
  {
   "cell_type": "code",
   "execution_count": 5,
   "id": "6cd98792",
   "metadata": {},
   "outputs": [
    {
     "data": {
      "text/plain": [
       "(10, 6, 11)"
      ]
     },
     "execution_count": 5,
     "metadata": {},
     "output_type": "execute_result"
    }
   ],
   "source": [
    "r1.color\n",
    "# here object inheritance super class attribute"
   ]
  },
  {
   "cell_type": "markdown",
   "id": "680c5ddd",
   "metadata": {},
   "source": [
    "# overriding\n",
    "\n",
    "Method overriding allows you to redefine a method in a subclass or the derived class previously defined in its parent or the superclass. "
   ]
  },
  {
   "cell_type": "code",
   "execution_count": 6,
   "id": "a2c3c00a",
   "metadata": {},
   "outputs": [],
   "source": [
    "#super class\n",
    "class counter:\n",
    "    def __init__(self):\n",
    "        self.value=0\n",
    "    def increment(self):\n",
    "        self.value+=1\n",
    "        print(\"value\",self.value)"
   ]
  },
  {
   "cell_type": "code",
   "execution_count": 7,
   "id": "2f63076b",
   "metadata": {},
   "outputs": [],
   "source": [
    "#sub class\n",
    "class Customcounter(counter):\n",
    "    def __init__(self,size):\n",
    "        counter.__init__(self)\n",
    "        self.stepsize=size\n",
    "    def increment(self):#here the function is overriding the method of superclass\n",
    "        self.value+=self.stepsize\n",
    "        print(\"value\",self.value)"
   ]
  },
  {
   "cell_type": "code",
   "execution_count": 8,
   "id": "289b32c4",
   "metadata": {},
   "outputs": [],
   "source": [
    "a=counter()#super class"
   ]
  },
  {
   "cell_type": "code",
   "execution_count": 9,
   "id": "eb77fd7c",
   "metadata": {},
   "outputs": [
    {
     "name": "stdout",
     "output_type": "stream",
     "text": [
      "value 1\n"
     ]
    }
   ],
   "source": [
    "a.increment()#super class method"
   ]
  },
  {
   "cell_type": "code",
   "execution_count": 10,
   "id": "ccb14536",
   "metadata": {},
   "outputs": [],
   "source": [
    "b=Customcounter(2)#sub class "
   ]
  },
  {
   "cell_type": "code",
   "execution_count": 11,
   "id": "508a13ec",
   "metadata": {},
   "outputs": [
    {
     "name": "stdout",
     "output_type": "stream",
     "text": [
      "value 2\n"
     ]
    }
   ],
   "source": [
    "b.increment()#method is overring the super class function."
   ]
  },
  {
   "cell_type": "markdown",
   "id": "9f7ca880",
   "metadata": {},
   "source": [
    "# Composition\n",
    "Composition is a concept that models a has a relationship"
   ]
  },
  {
   "cell_type": "code",
   "execution_count": 12,
   "id": "6d37931a",
   "metadata": {},
   "outputs": [],
   "source": [
    "class student:\n",
    "    def __init__(self,last,first):\n",
    "        self.lastname=last\n",
    "        self.firstname=first"
   ]
  },
  {
   "cell_type": "code",
   "execution_count": 13,
   "id": "1bcf38c0",
   "metadata": {},
   "outputs": [],
   "source": [
    "class Department(student):\n",
    "    def __init__(self):\n",
    "        self.students=[]\n",
    "    def enroll(self,student):\n",
    "        self.students.append(student)"
   ]
  },
  {
   "cell_type": "code",
   "execution_count": 14,
   "id": "467cb74b",
   "metadata": {},
   "outputs": [],
   "source": [
    "math=Department()"
   ]
  },
  {
   "cell_type": "code",
   "execution_count": 15,
   "id": "42bec5a8",
   "metadata": {},
   "outputs": [],
   "source": [
    "math.enroll(student(\"shekhar\",\"shashank\"))"
   ]
  },
  {
   "cell_type": "code",
   "execution_count": 16,
   "id": "7b31c589",
   "metadata": {},
   "outputs": [],
   "source": [
    "math.enroll(student(\"xyz\",\"abc\"))"
   ]
  },
  {
   "cell_type": "code",
   "execution_count": 17,
   "id": "8f08d787",
   "metadata": {},
   "outputs": [
    {
     "name": "stdout",
     "output_type": "stream",
     "text": [
      "shashank shekhar\n",
      "abc xyz\n"
     ]
    }
   ],
   "source": [
    "for i in math.students:\n",
    "    print(i.firstname,i.lastname)"
   ]
  },
  {
   "cell_type": "markdown",
   "id": "dce5a2aa",
   "metadata": {},
   "source": [
    "_________________________________\n",
    "# Polymorphism\n",
    "Polymorphism is the method in an object-oriented programming language that performs different things as per the object's class, which calls it."
   ]
  },
  {
   "cell_type": "code",
   "execution_count": 18,
   "id": "5e1a820c",
   "metadata": {},
   "outputs": [],
   "source": [
    "class shape:\n",
    "    def __init__(self):\n",
    "        self.color=(0,0,0)"
   ]
  },
  {
   "cell_type": "code",
   "execution_count": 19,
   "id": "92f22197",
   "metadata": {},
   "outputs": [],
   "source": [
    "class circle(shape):\n",
    "    def __init__(self,rad):\n",
    "        shape.__init__(self)\n",
    "        self.radius=rad\n",
    "    def area(self):\n",
    "        return 3.14*(self.radius**2)\n",
    "        "
   ]
  },
  {
   "cell_type": "code",
   "execution_count": 20,
   "id": "03f31ae0",
   "metadata": {},
   "outputs": [],
   "source": [
    "class rect(shape):\n",
    "    def __init__(self,w,h):\n",
    "        shape.__init__(self)\n",
    "        self.width=w\n",
    "        self.height=h\n",
    "    def area(self):\n",
    "        return self.width*self.height"
   ]
  },
  {
   "cell_type": "code",
   "execution_count": 21,
   "id": "f3538f06",
   "metadata": {},
   "outputs": [],
   "source": [
    "l=[]\n",
    "l.append(rect(4,5))\n",
    "l.append(circle(4))"
   ]
  },
  {
   "cell_type": "code",
   "execution_count": 26,
   "id": "8fcef294",
   "metadata": {},
   "outputs": [
    {
     "name": "stdout",
     "output_type": "stream",
     "text": [
      "area: 20\n",
      "area: 50.24\n"
     ]
    }
   ],
   "source": [
    "for shape in l:\n",
    "    print(\"\"shape.area())"
   ]
  }
 ],
 "metadata": {
  "kernelspec": {
   "display_name": "Python 3 (ipykernel)",
   "language": "python",
   "name": "python3"
  },
  "language_info": {
   "codemirror_mode": {
    "name": "ipython",
    "version": 3
   },
   "file_extension": ".py",
   "mimetype": "text/x-python",
   "name": "python",
   "nbconvert_exporter": "python",
   "pygments_lexer": "ipython3",
   "version": "3.11.5"
  }
 },
 "nbformat": 4,
 "nbformat_minor": 5
}
