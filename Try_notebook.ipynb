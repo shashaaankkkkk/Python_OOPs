{
 "cells": [
  {
   "cell_type": "code",
   "execution_count": 9,
   "id": "93c549ce",
   "metadata": {},
   "outputs": [],
   "source": [
    "#constructor example\n",
    "class student:\n",
    "    def __init__(self,s):#s is attribute \n",
    "        self.name=s\n",
    "        \n",
    "    def hello(self):\n",
    "        print (\"hello\",self.name)\n",
    "        "
   ]
  },
  {
   "cell_type": "code",
   "execution_count": 10,
   "id": "5af3d68c",
   "metadata": {},
   "outputs": [
    {
     "name": "stdout",
     "output_type": "stream",
     "text": [
      "hello shashank\n"
     ]
    }
   ],
   "source": [
    "a=student(\"shashank\")\n",
    "a.hello()"
   ]
  },
  {
   "cell_type": "markdown",
   "id": "68b9b3cd",
   "metadata": {},
   "source": [
    "# Inheritance"
   ]
  },
  {
   "cell_type": "code",
   "execution_count": 5,
   "id": "8ecf3b4c",
   "metadata": {},
   "outputs": [],
   "source": [
    "#inheritance \n",
    "class shape:\n",
    "    def __init__(self):\n",
    "        pass\n",
    "\n",
    "class rectangle(shape):\n",
    "    def __init__(self,w,h):\n",
    "        shape.__init__(self)\n",
    "        self.width=w\n",
    "        self.height=h\n",
    "    def area(self):\n",
    "        return self.width*self.height"
   ]
  },
  {
   "cell_type": "code",
   "execution_count": 6,
   "id": "6bdeef7d",
   "metadata": {},
   "outputs": [],
   "source": [
    "r1=rectangle(10,5)"
   ]
  },
  {
   "cell_type": "code",
   "execution_count": 7,
   "id": "fc3eed3b",
   "metadata": {},
   "outputs": [
    {
     "data": {
      "text/plain": [
       "50"
      ]
     },
     "execution_count": 7,
     "metadata": {},
     "output_type": "execute_result"
    }
   ],
   "source": [
    "r1.area()"
   ]
  }
 ],
 "metadata": {
  "kernelspec": {
   "display_name": "Python 3 (ipykernel)",
   "language": "python",
   "name": "python3"
  },
  "language_info": {
   "codemirror_mode": {
    "name": "ipython",
    "version": 3
   },
   "file_extension": ".py",
   "mimetype": "text/x-python",
   "name": "python",
   "nbconvert_exporter": "python",
   "pygments_lexer": "ipython3",
   "version": "3.11.5"
  }
 },
 "nbformat": 4,
 "nbformat_minor": 5
}
